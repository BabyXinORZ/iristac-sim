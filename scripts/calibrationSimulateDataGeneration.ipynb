{
 "cells": [
  {
   "cell_type": "code",
   "execution_count": 2,
   "metadata": {},
   "outputs": [],
   "source": [
    "import mitsuba as mi\n",
    "import drjit as dr \n",
    "import matplotlib.pyplot as plt\n",
    "mi.set_variant(\"cuda_ad_rgb\")"
   ]
  },
  {
   "cell_type": "markdown",
   "metadata": {},
   "source": [
    "# Camera Parameters Setup"
   ]
  },
  {
   "cell_type": "code",
   "execution_count": 3,
   "metadata": {},
   "outputs": [],
   "source": [
    "Intrinsics = mi.Matrix3f([[422.3949, 0,313.5413],[0,422.4885,233.1770],[0,0,1]])\n",
    "Z_camera = -44\n",
    "image_res = (640,480)\n",
    "cam_conner1 = dr.inverse(Intrinsics)@mi.Point3f(0,0,1)*-Z_camera\n",
    "cam_conner2 = dr.inverse(Intrinsics)@mi.Point3f(image_res[0]-1,image_res[1]-1,1)*-Z_camera\n",
    "\n",
    "\n",
    "# ### Image pixel resolution ###\n",
    "# image_res = (256,256)\n",
    "# ### camera origin          ###\n",
    "cam_origin = mi.Point3f(0,0,Z_camera)\n",
    "cam_range = ((cam_conner1[0,0],cam_conner1[1,0]),(cam_conner2[0,0],cam_conner2[1,0]))\n",
    "cam_fov= (cam_conner2[0,0]-cam_conner1[0,0],cam_conner2[1,0]-cam_conner1[1,0])\n",
    "from utils import camera \n",
    "cam = camera.Camera(cam_origin, image_res,cam_range)"
   ]
  },
  {
   "cell_type": "markdown",
   "metadata": {},
   "source": [
    "# LED Position Setup"
   ]
  },
  {
   "cell_type": "code",
   "execution_count": 4,
   "metadata": {},
   "outputs": [],
   "source": [
    "import utils.led_ring\n",
    "\n",
    "N_LED = 24\n",
    "LED0_pos = mi.Point3f(34.41,0,-12.5)\n",
    "LED_ring = utils.led_ring.LED_params(N_LED, LED0_pos)"
   ]
  },
  {
   "cell_type": "markdown",
   "metadata": {},
   "source": [
    "# Sensor Setup"
   ]
  },
  {
   "cell_type": "code",
   "execution_count": 5,
   "metadata": {},
   "outputs": [],
   "source": [
    "from utils import iristac\n",
    "sensor = iristac.sensor(cam,LED_ring)"
   ]
  },
  {
   "cell_type": "markdown",
   "metadata": {},
   "source": [
    "# Reference Image Generation"
   ]
  },
  {
   "cell_type": "code",
   "execution_count": null,
   "metadata": {},
   "outputs": [],
   "source": [
    "i_LED=10\n",
    "\n",
    "\n",
    "LED_ring.E[:,:,:,:]=LED_ring.E.array*0\n",
    "LED_ring.E[:,i_LED,:,2]=4\n",
    "sensor.set_LED(LED_ring)\n",
    "# I_ref = sensor.get_tactile_img()\n",
    "# plt.imshow(I_ref+rng.next_float32()/5)\n",
    "# plt.show()\n",
    "noise_index = dr.arange(mi.UInt,dr.prod(image_res)*3)\n",
    "\n",
    "for i_LED in range(24):\n",
    "    LED_ring.E[:,:,:,:]=LED_ring.E.array*0\n",
    "    LED_ring.E[:,i_LED,:,:]=LED_ring.E[:,i_LED,:,:].array+4\n",
    "    sensor.set_LED(LED_ring)\n",
    "    I_0 = sensor.get_tactile_img()\n",
    "    for i_intensity in range(256):\n",
    "        I_noise = I_0*i_intensity/256\n",
    "        I_noise[:,:,0] = I_noise[:,:,0].array*1.15\n",
    "        I_noise[:,:,1] = I_noise[:,:,1].array*1.05\n",
    "        I_noise[:,:,2] = I_noise[:,:,2].array*0.9\n",
    "        noise = mi.sample_tea_float32(i_LED*256+i_intensity,noise_index)-0.5\n",
    "        I_noise = I_noise+noise/10\n",
    "        for i_RGB in range(3):\n",
    "            I_save = mi.TensorXf(0,I_0.shape)\n",
    "            I_save[:,:,i_RGB] = I_noise[:,:,i_RGB].array\n",
    "            path = \"../data/calibration_sim/{0:02d}_{1:03d}_{2:01d}.jpg\".format(i_LED,i_intensity,i_RGB)\n",
    "            bmp = mi.Bitmap(I_save)\n",
    "            bmp = bmp.convert(mi.Bitmap.PixelFormat.RGB, mi.Struct.Type.UInt8, False)\n",
    "            bmp.write(path)\n",
    "            print(\"\\r\", end=path, flush=True)"
   ]
  }
 ],
 "metadata": {
  "kernelspec": {
   "display_name": ".venv",
   "language": "python",
   "name": "python3"
  },
  "language_info": {
   "codemirror_mode": {
    "name": "ipython",
    "version": 3
   },
   "file_extension": ".py",
   "mimetype": "text/x-python",
   "name": "python",
   "nbconvert_exporter": "python",
   "pygments_lexer": "ipython3",
   "version": "3.8.10"
  }
 },
 "nbformat": 4,
 "nbformat_minor": 2
}
