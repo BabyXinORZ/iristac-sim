{
 "cells": [
  {
   "cell_type": "markdown",
   "metadata": {},
   "source": [
    "# Calibration the sensor\n",
    "1. Extrinsics\n",
    "   - Camera fov on zero surface\n",
    "   - Camera position\n",
    "   - LED Position\n",
    "2. Intrinsics\n",
    "   - LED Illumination model\n",
    "   - Camera imaging function (relationship between diffusion intensity and image intensity)  "
   ]
  },
  {
   "cell_type": "code",
   "execution_count": 1,
   "metadata": {},
   "outputs": [],
   "source": [
    "import mitsuba as mi\n",
    "import drjit as dr \n",
    "import matplotlib.pyplot as plt\n",
    "mi.set_variant(\"cuda_ad_rgb\")"
   ]
  },
  {
   "cell_type": "markdown",
   "metadata": {},
   "source": [
    "## Step 1: measure Extrinsics by model"
   ]
  },
  {
   "cell_type": "code",
   "execution_count": 2,
   "metadata": {},
   "outputs": [],
   "source": [
    "Intrinsics = mi.Matrix3f([[422.3949, 0,313.5413],[0,422.4885,233.1770],[0,0,1]])\n",
    "Z_camera = -44\n",
    "image_res = (640,480)\n",
    "cam_conner1 = dr.inverse(Intrinsics)@mi.Point3f(0,0,1)*-Z_camera\n",
    "cam_conner2 = dr.inverse(Intrinsics)@mi.Point3f(image_res[0]-1,image_res[1]-1,1)*-Z_camera\n",
    "\n",
    "\n",
    "# ### Image pixel resolution ###\n",
    "# image_res = (256,256)\n",
    "# ### camera origin          ###\n",
    "cam_origin = mi.Point3f(0,0,Z_camera)\n",
    "cam_range = ((cam_conner1[0,0],cam_conner1[1,0]),(cam_conner2[0,0],cam_conner2[1,0]))\n",
    "cam_fov= (cam_conner2[0,0]-cam_conner1[0,0],cam_conner2[1,0]-cam_conner1[1,0])\n",
    "from utils import camera \n",
    "cam = camera.Camera(cam_origin, image_res,cam_range)"
   ]
  },
  {
   "cell_type": "markdown",
   "metadata": {},
   "source": [
    "## Step 2: fix incident angles, measure diffuse intensity and image intensity at diffrent LED intensity."
   ]
  },
  {
   "cell_type": "code",
   "execution_count": 3,
   "metadata": {},
   "outputs": [],
   "source": [
    "import utils.led_ring\n",
    "\n",
    "N_LED = 24\n",
    "LED0_pos = mi.Point3f(34.41,0,-12.5)\n",
    "LED_ring = utils.led_ring.LED_params(N_LED, LED0_pos)"
   ]
  },
  {
   "cell_type": "code",
   "execution_count": 4,
   "metadata": {},
   "outputs": [],
   "source": [
    "from utils import iristac\n",
    "sensor = iristac.sensor(cam,LED_ring)"
   ]
  },
  {
   "cell_type": "code",
   "execution_count": 5,
   "metadata": {},
   "outputs": [],
   "source": [
    "si = cam.shot(sensor.Z0_scene)\n",
    "P_LED = LED_ring.P\n",
    "N_LED = LED_ring.N\n",
    "D_LED = LED_ring.D\n",
    "\n",
    "# compute incident direction D_incident\n",
    "\n",
    "P_LED_t = mi.TensorXf(dr.ravel(P_LED),shape=[1,N_LED,1,3])\n",
    "N_Pixel = image_res[0]*image_res[1]\n",
    "P_Pixel_t = mi.TensorXf(dr.ravel(si.p),shape=[N_Pixel,1,1,3])\n",
    "D_incident = P_Pixel_t - P_LED_t\n",
    "D_incident_n = mi.TensorXf(dr.block_sum(dr.sqr(D_incident.array),3),shape=[N_Pixel,N_LED,1,1])\n",
    "D_incident = D_incident/dr.sqrt(D_incident_n)\n",
    "\n",
    "# compute angle between incident and LED normal\n",
    "D_LED_t = mi.TensorXf(dr.ravel(D_LED),shape=[1,N_LED,1,3])\n",
    "cosine2 = D_incident*D_LED_t\n",
    "cosine2 = mi.TensorXf(dr.block_sum(cosine2.array,3),shape=[N_Pixel,N_LED,1,1])\n",
    "cosine2 = dr.select(cosine2>0,cosine2,0)\n",
    "I_LED = dr.exp(-1/(cosine2+0.05)/2)*dr.exp(0.5)\n",
    "\n",
    "theta0_mask =  abs(cosine2-0.5)< 1e-4\n"
   ]
  },
  {
   "cell_type": "code",
   "execution_count": null,
   "metadata": {},
   "outputs": [],
   "source": [
    "\n",
    "value_dict = {}\n",
    "\n",
    "for i_LED in [0]:\n",
    "    D_incident_vec = dr.gather(mi.Vector3f,D_incident[:,i_LED,:,:].array,dr.arange(mi.UInt,N_Pixel))\n",
    "    i_t = mi.TensorXf(D_incident_vec@si.n,[image_res[1],image_res[0]])\n",
    "    n_theta = dr.count(theta0_mask[:,i_LED].array)\n",
    "    i_arr = D_incident_vec@si.n\n",
    "    phi = dr.exp(-1/(cosine2[:,i_LED].array+0.05)/2)*dr.exp(0.5)\n",
    "    I_temp = phi*i_arr\n",
    "    if n_theta==0:\n",
    "        continue\n",
    "    for i_RGB in [0,1,2]:\n",
    "        value_dict[i_LED,i_RGB] = []\n",
    "        for i_intensity in range(256):\n",
    "            \n",
    "            # path = \"../data/calibration/xx_xxx_{2:01d}/{0:02d}_{1:03d}_{2:01d}.jpg\".format(i_LED,i_intensity,i_RGB)\n",
    "            path = \"../data/calibration_sim/{0:02d}_{1:03d}_{2:01d}.png\".format(i_LED,i_intensity,i_RGB)\n",
    "            bmp1 = mi.Bitmap(path)  \n",
    "            I_cali = mi.TensorXf(bmp1)/256\n",
    "\n",
    "            diffuseIntensity_t = i_t*i_intensity/256\n",
    "\n",
    "            diffuseIntensity = dr.sum(dr.select(theta0_mask[:,i_LED].array,diffuseIntensity_t.array,0))/n_theta\n",
    "            I_value = dr.sum(dr.select(theta0_mask[:,i_LED].array,I_cali[:,:,i_RGB].array,0))/n_theta\n",
    "\n",
    "            value_dict[i_LED,i_RGB].append([I_value[0],diffuseIntensity[0]])\n",
    "            print(\"\\r\", end=path)\n"
   ]
  },
  {
   "cell_type": "code",
   "execution_count": null,
   "metadata": {},
   "outputs": [],
   "source": [
    "import numpy as np\n",
    "\n",
    "led_list=[0]\n",
    "rgb_list=[0,1,2]\n",
    "\n",
    "\n",
    "for i in led_list:\n",
    "    if not value_dict.keys().__contains__((i,0)):\n",
    "        continue\n",
    "\n",
    "    for j in rgb_list:\n",
    "        plt.scatter(np.array(value_dict[i,j])[:,0],np.array(value_dict[i,j])[:,1])\n",
    "\n"
   ]
  },
  {
   "cell_type": "code",
   "execution_count": null,
   "metadata": {},
   "outputs": [],
   "source": [
    "k_I = [0,0,0]\n",
    "for i_RGB in range(3):\n",
    "    X = []\n",
    "    Y = []\n",
    "    for i_LED in [0]:\n",
    "        X.extend(np.array(value_dict[i_LED,i_RGB])[:,0])\n",
    "        Y.extend(np.array(value_dict[i_LED,i_RGB])[:,1])\n",
    "    X = np.array(X)\n",
    "    Y = np.array(Y)\n",
    "    k_I[i_RGB] = X.T@Y/(X.T@X)\n",
    "print(k_I)"
   ]
  },
  {
   "cell_type": "markdown",
   "metadata": {},
   "source": [
    "## Step 3: fix LED intensity, measure LED angle and compute incident intensity by diffuse intensity."
   ]
  },
  {
   "cell_type": "code",
   "execution_count": null,
   "metadata": {},
   "outputs": [],
   "source": [
    "i_intensity = 100\n",
    "i_LED = 16\n",
    "i_RGB = 2\n",
    "\n",
    "\n",
    "k_rgb = [0.8,0.7,0.9]\n",
    "\n",
    "path = \"../data/calibration_sim/{0:02d}_{1:03d}_{2:01d}.png\".format(i_LED,i_intensity,i_RGB)\n",
    "\n",
    "\n",
    "D_incident_vec = dr.gather(mi.Vector3f,D_incident[:,i_LED,:].array,dr.arange(mi.UInt,N_Pixel))\n",
    "i_arr = D_incident_vec@si.n\n",
    "phi = dr.exp(-1/(cosine2[:,i_LED].array+0.05)/2)*dr.exp(0.5)\n",
    "I_temp = phi*i_arr*i_intensity/256*k_rgb[i_RGB]\n",
    "\n",
    "I_sim = mi.TensorXf(0,(480,640,3))\n",
    "I_sim[:,:,i_RGB] = I_temp\n",
    "\n",
    "# dr.eval(I_sim1,cosine2)\n",
    "\n",
    "# mi.util.write_bitmap(path, I_sim2, write_async=False)\n",
    "\n",
    "bmp2 = mi.Bitmap(path)  \n",
    "I_cali = mi.TensorXf(bmp2)/256\n",
    "\n",
    "# dr.eval(I_sim1)\n",
    "phi2 = I_cali[:,:,i_RGB].array*k_I[i_RGB]/i_arr/i_intensity*256\n",
    "phi1 = I_sim[:,:,i_RGB].array*k_I[i_RGB]/i_arr/i_intensity*256\n",
    "# phi3 = I_sim2[:,:,i_RGB].array*k_rgb[i_RGB]/i_arr/i_intensity*256\n",
    "c_theta = cosine2[:,i_LED].array\n",
    "\n",
    "\n",
    "plt.scatter(c_theta,phi2)\n",
    "plt.scatter(c_theta,phi1)\n",
    "# plt.scatter(c_theta,phi3)\n",
    "plt.show()"
   ]
  },
  {
   "cell_type": "code",
   "execution_count": null,
   "metadata": {},
   "outputs": [],
   "source": [
    "# dr.max(cosine2)\n",
    "# a = 12.5/dr.sqrt(cam_range[1][1]**2+12.5**2+(34.41-cam_range[0][0])**2)\n",
    "# dr.sqrt(1-a**2)\n",
    "i_arr = D_incident_vec@si.n\n",
    "cosine2 = dr.select(cosine2>0,cosine2,0)\n",
    "phi = dr.exp(-1/(cosine2[:,i_LED].array+0.05)/2)*dr.exp(0.5)\n",
    "I_temp = phi*i_arr*i_intensity/256\n",
    "I_sim = mi.TensorXf(0,(480,640,3))\n",
    "I_sim[:,:,i_RGB] = I_temp\n",
    "\n",
    "\n",
    "path = \"../data/calibration_sim/{0:02d}_{1:03d}_{2:01d}.jpg\".format(i_LED,i_intensity,i_RGB)\n",
    "bmp = mi.Bitmap(path)  \n",
    "I_cali = mi.TensorXf(bmp)/256\n",
    "\n",
    "\n",
    "\n",
    "f, ax = plt.subplots(1,2)\n",
    "\n",
    "ax[0].imshow(I_sim)\n",
    "ax[1].imshow(I_cali)\n",
    "plt.show()"
   ]
  }
 ],
 "metadata": {
  "kernelspec": {
   "display_name": ".venv",
   "language": "python",
   "name": "python3"
  },
  "language_info": {
   "codemirror_mode": {
    "name": "ipython",
    "version": 3
   },
   "file_extension": ".py",
   "mimetype": "text/x-python",
   "name": "python",
   "nbconvert_exporter": "python",
   "pygments_lexer": "ipython3",
   "version": "3.8.10"
  }
 },
 "nbformat": 4,
 "nbformat_minor": 2
}
