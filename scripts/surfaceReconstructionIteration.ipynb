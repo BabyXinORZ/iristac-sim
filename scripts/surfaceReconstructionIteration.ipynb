{
 "cells": [
  {
   "cell_type": "code",
   "execution_count": 1,
   "metadata": {},
   "outputs": [],
   "source": [
    "import mitsuba as mi\n",
    "import drjit as dr \n",
    "import matplotlib.pyplot as plt\n",
    "mi.set_variant(\"cuda_ad_rgb\")"
   ]
  },
  {
   "cell_type": "markdown",
   "metadata": {},
   "source": [
    "# Surface Reconstruction based on Photometric Stereo"
   ]
  },
  {
   "cell_type": "markdown",
   "metadata": {},
   "source": [
    "## Get Image $I$"
   ]
  },
  {
   "cell_type": "code",
   "execution_count": 2,
   "metadata": {},
   "outputs": [],
   "source": [
    "## get image I ##\n",
    "bmp = mi.Bitmap('../scenes/img/normal-10-10.png')\n",
    "I_t = mi.TensorXf(bmp)/256"
   ]
  },
  {
   "cell_type": "markdown",
   "metadata": {},
   "source": [
    "## Set LED Configuration"
   ]
  },
  {
   "cell_type": "code",
   "execution_count": 3,
   "metadata": {},
   "outputs": [],
   "source": [
    "import utils.led_ring\n",
    "\n",
    "N_LED = 24\n",
    "LED0_pos = mi.Point3f(-34.41,0,-12.5)\n",
    "LED_ring = utils.led_ring.LED_params(N_LED, LED0_pos)\n",
    "P_LED = LED_ring.P\n",
    "D_LED = LED_ring.D\n",
    "\n",
    "## get LED intensity ##\n",
    "A = 0.4\n",
    "B = 0.5\n",
    "LED_ring.set_sine_intensity(A,B)"
   ]
  },
  {
   "cell_type": "markdown",
   "metadata": {},
   "source": [
    "## Set Camera Configuration"
   ]
  },
  {
   "cell_type": "code",
   "execution_count": 4,
   "metadata": {},
   "outputs": [],
   "source": [
    "### Image pixel resolution ###\n",
    "image_res = (256,256)\n",
    "### camera origin          ###\n",
    "cam_origin = mi.Point3f(0,0,-50)\n",
    "### camera fov in mm       ###\n",
    "cam_fov = (70,70)\n",
    "\n",
    "from utils import camera \n",
    "cam = camera.Camera(cam_origin, image_res,cam_fov)"
   ]
  },
  {
   "cell_type": "markdown",
   "metadata": {},
   "source": [
    "## Surface Reconstruction Iteration"
   ]
  },
  {
   "cell_type": "code",
   "execution_count": 5,
   "metadata": {},
   "outputs": [
    {
     "name": "stdout",
     "output_type": "stream",
     "text": [
      "fast poisson solver reconstruction error:\n",
      "    rms error:   \t 1.61E-2\n",
      "    std  error:  \t 1.02E-2\n",
      "    \n",
      "fast poisson solver reconstruction error:\n",
      "    rms error:   \t 2.17E-2\n",
      "    std  error:  \t 2.17E-3\n",
      "    \n",
      "fast poisson solver reconstruction error:\n",
      "    rms error:   \t 1.11E-2\n",
      "    std  error:  \t 5.19E-4\n",
      "    \n",
      "fast poisson solver reconstruction error:\n",
      "    rms error:   \t 1.20E-2\n",
      "    std  error:  \t 5.98E-4\n",
      "    \n",
      "fast poisson solver reconstruction error:\n",
      "    rms error:   \t 1.20E-2\n",
      "    std  error:  \t 5.90E-4\n",
      "    \n",
      "fast poisson solver reconstruction error:\n",
      "    rms error:   \t 1.20E-2\n",
      "    std  error:  \t 5.91E-4\n",
      "    \n"
     ]
    }
   ],
   "source": [
    "from utils import iristac\n",
    "import numpy as np\n",
    "from utils.depth_from_grad import frankotchellappa, fast_poisson\n",
    "from decimal import Decimal\n",
    "\n",
    "sensor = iristac.sensor(cam,LED_ring)\n",
    "\n",
    "Z = None\n",
    "N_Pixel = image_res[0]*image_res[1]\n",
    "\n",
    "### Ground truth ###\n",
    "scene_ref = mi.load_file('../scenes/iristac_ply.xml')\n",
    "si_ref = cam.shot(scene_ref)\n",
    "Z_ref = si_ref.p[2]\n",
    "\n",
    "\n",
    "for i in range(6):\n",
    "    if i>0:\n",
    "        sensor.set_Z0(Z_t)\n",
    "    normal = sensor.get_surface_normal(I_t)\n",
    "    grad_x = np.reshape(-normal[0]/normal[2],(image_res[1],image_res[0]))\n",
    "    grad_y = np.reshape(-normal[1]/normal[2],(image_res[1],image_res[0]))\n",
    "    Z = fast_poisson(grad_x,grad_y)\n",
    "    Z = Z*np.sqrt(cam_fov[0]*cam_fov[1]/N_Pixel)\n",
    "    error_rms = np.mean(np.sqrt(((np.ravel(Z)-Z_ref))**2))\n",
    "    error_std = np.std((np.ravel(Z)-Z_ref)**2)\n",
    "    print(\"fast poisson solver reconstruction error:\\n\\\n",
    "    rms error:   \\t {0:.2E}\\n\\\n",
    "    std  error:  \\t {1:.2E}\\n\\\n",
    "    \".format(Decimal(error_rms),Decimal(error_std))\n",
    "    )\n",
    "    Z_t = mi.TensorXf(np.ravel(Z),(cam.image_res[0],cam.image_res[1]))\n"
   ]
  }
 ],
 "metadata": {
  "kernelspec": {
   "display_name": ".venv",
   "language": "python",
   "name": "python3"
  },
  "language_info": {
   "codemirror_mode": {
    "name": "ipython",
    "version": 3
   },
   "file_extension": ".py",
   "mimetype": "text/x-python",
   "name": "python",
   "nbconvert_exporter": "python",
   "pygments_lexer": "ipython3",
   "version": "3.8.10"
  }
 },
 "nbformat": 4,
 "nbformat_minor": 2
}
