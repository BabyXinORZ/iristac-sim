{
 "cells": [
  {
   "cell_type": "code",
   "execution_count": 1,
   "metadata": {},
   "outputs": [],
   "source": [
    "import mitsuba as mi\n",
    "import drjit as dr \n",
    "import matplotlib.pyplot as plt\n",
    "mi.set_variant(\"cuda_ad_rgb\")"
   ]
  },
  {
   "cell_type": "code",
   "execution_count": 2,
   "metadata": {},
   "outputs": [],
   "source": [
    "import utils.led_ring\n",
    "\n",
    "N_LED = 24\n",
    "LED0_pos = mi.Point3f(34.41,0,-12.5)\n",
    "LED_ring = utils.led_ring.LED_params(N_LED, LED0_pos)\n",
    "P_LED = LED_ring.P\n",
    "D_LED = LED_ring.D\n",
    "\n",
    "## get LED intensity ##\n",
    "A = 0.4\n",
    "B = 0.5\n",
    "# LED_ring.set_sine_intensity(A,B)\n",
    "LED_ring.set_sine_intensity(A,B)\n"
   ]
  },
  {
   "cell_type": "code",
   "execution_count": 3,
   "metadata": {},
   "outputs": [],
   "source": [
    "Intrinsics = mi.Matrix3f([[422.3949, 0,313.5413],[0,422.4885,233.1770],[0,0,1]])\n",
    "Z_camera = -44\n",
    "image_res = (640,480)\n",
    "cam_conner1 = dr.inverse(Intrinsics)@mi.Point3f(0,0,1)*-Z_camera\n",
    "cam_conner2 = dr.inverse(Intrinsics)@mi.Point3f(image_res[0]-1,image_res[1]-1,1)*-Z_camera\n",
    "\n",
    "\n",
    "# ### camera origin          ###\n",
    "cam_origin = mi.Point3f(0,0,Z_camera)\n",
    "cam_range = ((cam_conner1[0,0],cam_conner1[1,0]),(cam_conner2[0,0],cam_conner2[1,0]))\n",
    "cam_fov= (cam_conner2[0,0]-cam_conner1[0,0],cam_conner2[1,0]-cam_conner1[1,0])\n",
    "from utils import camera \n",
    "cam = camera.Camera(cam_origin, image_res,cam_range)"
   ]
  },
  {
   "cell_type": "code",
   "execution_count": null,
   "metadata": {},
   "outputs": [],
   "source": [
    "import time\n",
    "from utils import iristac\n",
    "\n",
    "start_time = time.time()\n",
    "scene = mi.load_file('../scenes/iristac_ply.xml')\n",
    "\n",
    "sensor = iristac.sensor(cam,LED_ring)\n",
    "sensor.Z0_scene = scene\n",
    "sensor.compute_R()\n",
    "I_RGB = sensor.get_tactile_img()\n",
    "\n",
    "\n",
    "end_time = time.time()\n",
    "print(\"Time used: {:.10f} seconds\".format(end_time - start_time))"
   ]
  },
  {
   "cell_type": "code",
   "execution_count": null,
   "metadata": {},
   "outputs": [],
   "source": [
    "import matplotlib.pyplot as plt\n",
    "\n",
    "plt.axis('off')\n",
    "plt.imshow(I_RGB)\n",
    "plt.show()"
   ]
  },
  {
   "cell_type": "code",
   "execution_count": 6,
   "metadata": {},
   "outputs": [],
   "source": [
    "bmp = mi.Bitmap(I_RGB)\n",
    "bmp = bmp.convert(mi.Bitmap.PixelFormat.RGB, mi.Struct.Type.UInt8, False)\n",
    "bmp.write('../scenes/img/normal-10-10.png')"
   ]
  }
 ],
 "metadata": {
  "kernelspec": {
   "display_name": ".venv",
   "language": "python",
   "name": "python3"
  },
  "language_info": {
   "codemirror_mode": {
    "name": "ipython",
    "version": 3
   },
   "file_extension": ".py",
   "mimetype": "text/x-python",
   "name": "python",
   "nbconvert_exporter": "python",
   "pygments_lexer": "ipython3",
   "version": "3.8.10"
  }
 },
 "nbformat": 4,
 "nbformat_minor": 2
}
