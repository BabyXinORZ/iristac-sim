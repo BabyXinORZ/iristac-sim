{
 "cells": [
  {
   "cell_type": "code",
   "execution_count": 11,
   "metadata": {},
   "outputs": [],
   "source": [
    "import mitsuba as mi\n",
    "import drjit as dr \n",
    "import matplotlib.pyplot as plt\n",
    "mi.set_variant(\"cuda_ad_rgb\")"
   ]
  },
  {
   "cell_type": "markdown",
   "metadata": {},
   "source": [
    "# Surface Reconstruction based on Photometric Stereo\n",
    "\n",
    "input:\n",
    "- image $I\\in\\mathbb{R}^{256\\times256\\times3}$\n",
    "- Light Source Information\n",
    "  - LEDs position $P\\in\\mathbb{R}^{24\\times3}$\n",
    "  - LEDs intensity $E\\in\\mathbb{R}^{24\\times3}$\n",
    "  - LEDs direction $D\\in\\mathbb{R}^{24\\times3}$\n",
    "- Camera Information\n",
    "  - Camera resolution\n",
    "  - Camera Position\n",
    "  - Camera fov\n",
    "- Initial Estimation of Surface $Z_0\\in\\mathbb{R}^{256\\times256}$\n",
    "\n",
    "output:\n",
    "- Estimation of Surface $Z\\in\\mathbb{R}^{256\\times256}$"
   ]
  },
  {
   "cell_type": "markdown",
   "metadata": {},
   "source": [
    "## Get Image $I$"
   ]
  },
  {
   "cell_type": "code",
   "execution_count": null,
   "metadata": {},
   "outputs": [],
   "source": [
    "## get image I ##\n",
    "bmp = mi.Bitmap('../scenes/img/normal-10-10.png')\n",
    "\n",
    "I_t = mi.TensorXf(bmp)/256\n",
    "\n",
    "I_R = I_t[:,:,0]\n",
    "I_G = I_t[:,:,1]\n",
    "I_B = I_t[:,:,2]\n",
    "\n",
    "f, ax = plt.subplots(2,2)\n",
    "ax[0,0].imshow(I_t); ax[0,0].axis('off');ax[0,0].set_title(\"$I$\")\n",
    "ax[0,1].imshow(I_R,cmap='gray');ax[0,1].axis('off');ax[0,1].set_title(\"$I_R$\");\n",
    "ax[1,0].imshow(I_G,cmap='gray');ax[1,0].axis('off');ax[1,0].set_title(\"$I_G$\");\n",
    "ax[1,1].imshow(I_B,cmap='gray');ax[1,1].axis('off');ax[1,1].set_title(\"$I_B$\");"
   ]
  },
  {
   "cell_type": "markdown",
   "metadata": {},
   "source": [
    "## Set LED Configuration"
   ]
  },
  {
   "cell_type": "code",
   "execution_count": 13,
   "metadata": {},
   "outputs": [],
   "source": [
    "import utils.led_ring\n",
    "\n",
    "N_LED = 24\n",
    "LED0_pos = mi.Point3f(34.41,0,-12.5)\n",
    "LED_ring = utils.led_ring.LED_params(N_LED, LED0_pos)\n",
    "P_LED = LED_ring.P\n",
    "D_LED = LED_ring.D\n",
    "\n",
    "## get LED intensity ##\n",
    "A = 0.4\n",
    "B = 0.5\n",
    "# LED_ring.set_sine_intensity(A,B)\n",
    "LED_ring.set_sine_intensity(A,B)\n"
   ]
  },
  {
   "cell_type": "markdown",
   "metadata": {},
   "source": [
    "## Set Camera Configuration"
   ]
  },
  {
   "cell_type": "code",
   "execution_count": 14,
   "metadata": {},
   "outputs": [],
   "source": [
    "Intrinsics = mi.Matrix3f([[422.3949, 0,313.5413],[0,422.4885,233.1770],[0,0,1]])\n",
    "Z_camera = -44\n",
    "image_res = (640,480)\n",
    "cam_conner1 = dr.inverse(Intrinsics)@mi.Point3f(0,0,1)*-Z_camera\n",
    "cam_conner2 = dr.inverse(Intrinsics)@mi.Point3f(image_res[0]-1,image_res[1]-1,1)*-Z_camera\n",
    "\n",
    "# ### camera origin          ###\n",
    "cam_origin = mi.Point3f(0,0,Z_camera)\n",
    "cam_range = ((cam_conner1[0,0],cam_conner1[1,0]),(cam_conner2[0,0],cam_conner2[1,0]))\n",
    "cam_fov= (cam_conner2[0,0]-cam_conner1[0,0],cam_conner2[1,0]-cam_conner1[1,0])\n",
    "from utils import camera \n",
    "cam = camera.Camera(cam_origin, image_res,cam_range)"
   ]
  },
  {
   "cell_type": "markdown",
   "metadata": {},
   "source": [
    "## Calculate Surface Normal and Surface Gradient"
   ]
  },
  {
   "cell_type": "code",
   "execution_count": 15,
   "metadata": {},
   "outputs": [],
   "source": [
    "from utils import iristac\n",
    "\n",
    "sensor = iristac.sensor(cam,LED_ring)\n",
    "normal = sensor.get_surface_normal(I_t)\n",
    "# normal = sensor.si.n\n",
    "### Calculate gradient ###\n",
    "import numpy as np\n",
    "grad_x = np.reshape(-normal[0]/normal[2],(image_res[1],image_res[0]))\n",
    "grad_y = np.reshape(-normal[1]/normal[2],(image_res[1],image_res[0]))"
   ]
  },
  {
   "cell_type": "code",
   "execution_count": null,
   "metadata": {},
   "outputs": [],
   "source": [
    "I = sensor.get_tactile_img()\n",
    "plt.imshow(I)\n",
    "plt.show()"
   ]
  },
  {
   "cell_type": "markdown",
   "metadata": {},
   "source": [
    "## Surface Reconstruction"
   ]
  },
  {
   "cell_type": "code",
   "execution_count": 17,
   "metadata": {},
   "outputs": [],
   "source": [
    "### Ground truth ###\n",
    "scene_ref = mi.load_file('../scenes/iristac_ply.xml')\n",
    "si_ref = cam.shot(scene_ref)\n",
    "Z_ref = si_ref.p[2]"
   ]
  },
  {
   "cell_type": "code",
   "execution_count": null,
   "metadata": {},
   "outputs": [],
   "source": [
    "from utils.depth_from_grad import frankotchellappa, fast_poisson\n",
    "from decimal import Decimal\n",
    "\n",
    "N_Pixel = image_res[0]*image_res[1]\n",
    "\"\"\"Frankot-Chellappa depth-from-gradient algorithm.\"\"\"\n",
    "Z = frankotchellappa(grad_x,grad_y)\n",
    "Z = Z*np.sqrt(cam_fov[0]*cam_fov[1]/N_Pixel)\n",
    "error_rms = np.mean(np.sqrt((np.ravel(Z)-Z_ref)**2))\n",
    "error_std = np.std((np.ravel(Z)-Z_ref)**2)\n",
    "print(\"Frankot-Chellappa reconstruction error:\\n\\\n",
    "rms error:  \\t {0:.2E}\\n\\\n",
    "std  error:  \\t {1:.2E}\\n\\\n",
    "\".format(Decimal(error_rms),Decimal(error_std))\n",
    ")\n",
    "\n",
    "\n",
    "\"\"\"Fast Poisson Solver.\"\"\"\n",
    "Z = fast_poisson(grad_x,grad_y)\n",
    "Z = Z*np.sqrt(cam_fov[0]*cam_fov[1]/N_Pixel)\n",
    "error_rms = np.mean(np.sqrt((np.ravel(Z)-Z_ref)**2))\n",
    "error_std = np.std((np.ravel(Z)-Z_ref)**2)\n",
    "print(\"Fast Poisson Solver reconstruction error:\\n\\\n",
    "rms error:  \\t {0:.2E}\\n\\\n",
    "std  error:  \\t {1:.2E}\\n\\\n",
    "\".format(Decimal(error_rms),Decimal(error_std))\n",
    ")"
   ]
  },
  {
   "cell_type": "markdown",
   "metadata": {},
   "source": [
    "## Simulation of Tactile Image with Estimated Depth"
   ]
  },
  {
   "cell_type": "code",
   "execution_count": null,
   "metadata": {},
   "outputs": [],
   "source": [
    "### Get Tactile Image with Estimation Depth ###\n",
    "Z_t = mi.TensorXf(np.ravel(Z),(cam.image_res[1],cam.image_res[0]))\n",
    "sensor.set_Z0(Z_t)\n",
    "I_compute = sensor.get_tactile_img()\n",
    "\n",
    "f, ax = plt.subplots(1,2)\n",
    "\n",
    "ax[0].imshow(I_compute);ax[0].axis('off');  ax[0].set_title('Reconstruction Result')\n",
    "ax[1].imshow(I_t);      ax[1].axis('off');  ax[1].set_title('Refrence Image')\n",
    "plt.show()"
   ]
  }
 ],
 "metadata": {
  "kernelspec": {
   "display_name": ".venv",
   "language": "python",
   "name": "python3"
  },
  "language_info": {
   "codemirror_mode": {
    "name": "ipython",
    "version": 3
   },
   "file_extension": ".py",
   "mimetype": "text/x-python",
   "name": "python",
   "nbconvert_exporter": "python",
   "pygments_lexer": "ipython3",
   "version": "3.8.10"
  }
 },
 "nbformat": 4,
 "nbformat_minor": 2
}
