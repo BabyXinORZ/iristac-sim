{
 "cells": [
  {
   "cell_type": "code",
   "execution_count": 1,
   "metadata": {},
   "outputs": [],
   "source": [
    "import mitsuba as mi\n",
    "import drjit as dr \n",
    "mi.set_variant(\"cuda_ad_rgb\")"
   ]
  },
  {
   "cell_type": "markdown",
   "metadata": {},
   "source": [
    "# Generates a surface shape using a normal distribution"
   ]
  },
  {
   "cell_type": "code",
   "execution_count": 2,
   "metadata": {},
   "outputs": [],
   "source": [
    "M = 100\n",
    "N = 100\n",
    "\n",
    "x, y = dr.meshgrid(\n",
    "    dr.linspace(mi.Float, -35,   35, M),\n",
    "    dr.linspace(mi.Float, -35,   35, N)\n",
    ")\n",
    "\n",
    "mu = [10, 10]\n",
    "sigma = [8,8]\n",
    "\n",
    "\n",
    "z1 = dr.exp(-dr.power((x-mu[0])/sigma[0],2)/2)/sigma[0]\n",
    "z2 = dr.exp(-dr.power((y-mu[1])/sigma[1],2)/2)/sigma[1]\n",
    "\n",
    "z = -z1*z2/dr.two_pi*1000\n",
    "Z = mi.TensorXf(z,[M,N])"
   ]
  },
  {
   "cell_type": "code",
   "execution_count": 3,
   "metadata": {},
   "outputs": [],
   "source": [
    "from utils.meshbuilder import grid_mesh_build\n",
    "\n",
    "mesh = grid_mesh_build([-36,-36],[36,36],Z)\n",
    "\n",
    "mesh.write_ply(\"../scenes/meshes/face.ply\")"
   ]
  },
  {
   "cell_type": "markdown",
   "metadata": {},
   "source": [
    "# Visualize mesh file"
   ]
  },
  {
   "cell_type": "code",
   "execution_count": 4,
   "metadata": {},
   "outputs": [],
   "source": [
    "mesh = mi.load_dict({\n",
    "    \"type\": \"ply\",\n",
    "    \"filename\": \"../scenes/meshes/face.ply\",\n",
    "    \"bsdf\": {\n",
    "        \"type\": \"diffuse\",\n",
    "        \"reflectance\": {\n",
    "            \"type\": \"mesh_attribute\",\n",
    "            \"name\": \"vertex_color\",  # This will be used to visualize our attribute\n",
    "        },\n",
    "    },\n",
    "})\n",
    "\n",
    "# Needs to start with vertex_ or face_\n",
    "attribute_size = mesh.vertex_count() * 3\n",
    "mesh.add_attribute(\n",
    "    \"vertex_color\", 3, [0] * attribute_size\n",
    ")  # Add 3 floats per vertex (initialized at 0)"
   ]
  },
  {
   "cell_type": "code",
   "execution_count": null,
   "metadata": {},
   "outputs": [],
   "source": [
    "mesh_params = mi.traverse(mesh)\n",
    "M = 102\n",
    "N = 102\n",
    "\n",
    "vertex_colors = dr.zeros(mi.Float, 3 * N*M)\n",
    "idx,idy =  dr.meshgrid(\n",
    "    dr.arange(mi.UInt32, M),\n",
    "    dr.arange(mi.UInt32, N)\n",
    ")\n",
    "\n",
    "\n",
    "fringe_vertex_indices = idx+idy*M\n",
    "\n",
    "vertex_z = dr.gather(mi.Float, mesh_params[\"vertex_positions\"], fringe_vertex_indices*3 + 2),\n",
    "max_z = dr.max(vertex_z[0])\n",
    "min_z = dr.min(vertex_z[0])\n",
    "\n",
    "\n",
    "color = (vertex_z[0]-min_z)/(max_z-min_z)\n",
    "\n",
    "dr.scatter(vertex_colors, color/2, fringe_vertex_indices * 3)  # Fringe is red\n",
    "\n",
    "mesh_params[\"vertex_color\"] = vertex_colors\n",
    "mesh_params.update()\n"
   ]
  },
  {
   "cell_type": "code",
   "execution_count": null,
   "metadata": {},
   "outputs": [],
   "source": [
    "scene = mi.load_dict({\n",
    "    \"type\": \"scene\",\n",
    "    \"integrator\": {\"type\": \"path\"},\n",
    "    \"light\": {\"type\": \"constant\"},\n",
    "    \"sensor\": {\n",
    "        \"type\": \"perspective\",\n",
    "        \"to_world\": mi.ScalarTransform4f.look_at(\n",
    "            origin=[100, -100, 80], target=[0, 0, 0], up=[0, 0, 1]\n",
    "        ),\n",
    "    },\n",
    "    \"facedisk\": mesh,\n",
    "})\n",
    "\n",
    "img = mi.render(scene)\n",
    "\n",
    "from matplotlib import pyplot as plt\n",
    "\n",
    "plt.axis(\"off\")\n",
    "plt.imshow(mi.util.convert_to_bitmap(img));\n"
   ]
  },
  {
   "cell_type": "code",
   "execution_count": null,
   "metadata": {},
   "outputs": [],
   "source": [
    "min_z"
   ]
  }
 ],
 "metadata": {
  "kernelspec": {
   "display_name": "venv",
   "language": "python",
   "name": "python3"
  },
  "language_info": {
   "codemirror_mode": {
    "name": "ipython",
    "version": 3
   },
   "file_extension": ".py",
   "mimetype": "text/x-python",
   "name": "python",
   "nbconvert_exporter": "python",
   "pygments_lexer": "ipython3",
   "version": "3.8.10"
  }
 },
 "nbformat": 4,
 "nbformat_minor": 2
}
